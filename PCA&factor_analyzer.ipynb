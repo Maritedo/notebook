{
 "cells": [
  {
   "cell_type": "markdown",
   "metadata": {},
   "source": [
    "# 主成分分析"
   ]
  },
  {
   "cell_type": "markdown",
   "metadata": {},
   "source": [
    "注意：sklearn中的PCA方法默认使用协方差阵提取主成分，这一点和SPSS等统计软件不同（SPSS是利用相关系数阵进行）。\n",
    "\n",
    "因此如果想要利用相关系数来，必要时应当先对数据做标化，标化后各类、特征标准差都为1，这时用协方差阵结果是一样的。\n",
    "\n",
    "class sklearn.decomposition.PCA(\n",
    "\n",
    "n_components = None : int/float/None/string，希望保留的主成分数量\n",
    "    如果为None，则所有主成分均被保留，为'mle'时自动选择最佳数量（一般就设为None，后面再考虑减少）\n",
    "\n",
    "copy = True\n",
    "whiten = False : 输出的主成分是否*sqrt(n_samples)/特征根，即标准化（标化后的主成分标准差都为1，否则标准差就为特征值的平方根）\n",
    "    该转换会损失部分方差信息，但有时候会使得后续的建模效果有所改善\n",
    "\n",
    "svd_solver = 'auto' : {'auto', 'full', 'arpack', 'randomized'}\n",
    "    auto : 根据X.shape和n_components自动选择方法\n",
    "    full : 完整的SVD解法，即LAPACK\n",
    "    arpack : ARPACK法，要求0 < n_components <  X的列数\n",
    "    randomized : Halko等提出的随机SVD法\n",
    "tol = 0.0, iterated_power = 'auto', random_state = None\n",
    "\n",
    ")"
   ]
  },
  {
   "cell_type": "markdown",
   "metadata": {},
   "source": [
    "sklearn.decomposition.PCA类的属性：\n",
    "\n",
    "    components_ : array, 形如(n_components, n_features)，主成分系数矩阵\n",
    "    explained_variance_ : array, 形如(n_components,)，各主成分解释的方差量，其实就是特征值或特征根\n",
    "    explained_variance_ratio_ : array, 形如(n_components,)，各解释方差比例\n",
    "    singular_values_ : array, 形如(n_components,)，各主成分对应的奇异值\n",
    "    mean_ : array, 形如(n_features,)，各属性的均数，等价于X.mean(axis=1)\n",
    "    n_components_ : int\n",
    "    noise_variance_ : float，剩余的噪声协方差\n",
    "\n",
    "sklearn.decomposition.PCA类的方法：\n",
    "\n",
    "    fit(X[, y]) \n",
    "    fit_transform(X[, y])   \n",
    "    get_covariance() : 给出模型的协方差阵\n",
    "    get_params([deep])  \n",
    "    get_precision() : 给出协方差矩阵的逆矩阵（Precision Matrix）\n",
    "    inverse_transform(X)    \n",
    "    score(X[, y]) : 给出样本的平均对数似然值\n",
    "    score_samples(X) : 给出每个样本的对数似然值\n",
    "    set_params(**params)\n",
    "    transform(X)"
   ]
  },
  {
   "cell_type": "code",
   "execution_count": 1,
   "metadata": {},
   "outputs": [],
   "source": [
    "import pandas as pd \n",
    "import numpy as np\n",
    "import sklearn\n",
    "from sklearn import datasets\n",
    "from matplotlib import pyplot as plt\n",
    "iris = datasets.load_iris()"
   ]
  },
  {
   "cell_type": "code",
   "execution_count": 2,
   "metadata": {},
   "outputs": [],
   "source": [
    "from sklearn import preprocessing\n",
    "\n",
    "X_scaled = preprocessing.scale(iris.data) #标化"
   ]
  },
  {
   "cell_type": "code",
   "execution_count": 3,
   "metadata": {},
   "outputs": [
    {
     "data": {
      "text/plain": [
       "PCA(copy=True, iterated_power='auto', n_components=2, random_state=None,\n",
       "    svd_solver='auto', tol=0.0, whiten=False)"
      ]
     },
     "execution_count": 3,
     "metadata": {},
     "output_type": "execute_result"
    }
   ],
   "source": [
    "from sklearn.decomposition import PCA\n",
    "\n",
    "pca = PCA(n_components = 2)\n",
    "# 使用标化后的数据，因此等价于采用相关系数阵做PCA\n",
    "pca.fit(X_scaled)"
   ]
  },
  {
   "cell_type": "code",
   "execution_count": 4,
   "metadata": {},
   "outputs": [
    {
     "data": {
      "text/plain": [
       "array([[ 0.52106591, -0.26934744,  0.5804131 ,  0.56485654],\n",
       "       [ 0.37741762,  0.92329566,  0.02449161,  0.06694199]])"
      ]
     },
     "execution_count": 4,
     "metadata": {},
     "output_type": "execute_result"
    }
   ],
   "source": [
    "# 给出主成分系数矩阵，可以通过主成分系数矩阵计算主成分值\n",
    "pca.components_"
   ]
  },
  {
   "cell_type": "code",
   "execution_count": 5,
   "metadata": {},
   "outputs": [
    {
     "data": {
      "text/plain": [
       "array([2.93808505, 0.9201649 ])"
      ]
     },
     "execution_count": 5,
     "metadata": {},
     "output_type": "execute_result"
    }
   ],
   "source": [
    "# 各主成分的方差解释量（特征值）（提取信息的大小就是用提取的方差大小或则说离散度的大小来衡量的）\n",
    "pca.explained_variance_    \n"
   ]
  },
  {
   "cell_type": "code",
   "execution_count": 6,
   "metadata": {},
   "outputs": [
    {
     "data": {
      "text/plain": [
       "array([0.72962445, 0.22850762])"
      ]
     },
     "execution_count": 6,
     "metadata": {},
     "output_type": "execute_result"
    }
   ],
   "source": [
    "# 换算后的各主成分方差解释比例\n",
    "pca.explained_variance_ratio_"
   ]
  },
  {
   "cell_type": "code",
   "execution_count": 7,
   "metadata": {},
   "outputs": [
    {
     "data": {
      "text/html": [
       "<div>\n",
       "<style scoped>\n",
       "    .dataframe tbody tr th:only-of-type {\n",
       "        vertical-align: middle;\n",
       "    }\n",
       "\n",
       "    .dataframe tbody tr th {\n",
       "        vertical-align: top;\n",
       "    }\n",
       "\n",
       "    .dataframe thead th {\n",
       "        text-align: right;\n",
       "    }\n",
       "</style>\n",
       "<table border=\"1\" class=\"dataframe\">\n",
       "  <thead>\n",
       "    <tr style=\"text-align: right;\">\n",
       "      <th></th>\n",
       "      <th>0</th>\n",
       "      <th>1</th>\n",
       "      <th>2</th>\n",
       "      <th>3</th>\n",
       "      <th>z1</th>\n",
       "      <th>z2</th>\n",
       "    </tr>\n",
       "  </thead>\n",
       "  <tbody>\n",
       "    <tr>\n",
       "      <th>count</th>\n",
       "      <td>1.500000e+02</td>\n",
       "      <td>1.500000e+02</td>\n",
       "      <td>1.500000e+02</td>\n",
       "      <td>1.500000e+02</td>\n",
       "      <td>1.500000e+02</td>\n",
       "      <td>1.500000e+02</td>\n",
       "    </tr>\n",
       "    <tr>\n",
       "      <th>mean</th>\n",
       "      <td>-1.690315e-15</td>\n",
       "      <td>-1.842970e-15</td>\n",
       "      <td>-1.698641e-15</td>\n",
       "      <td>-1.409243e-15</td>\n",
       "      <td>-2.062054e-15</td>\n",
       "      <td>-2.300706e-15</td>\n",
       "    </tr>\n",
       "    <tr>\n",
       "      <th>std</th>\n",
       "      <td>1.003350e+00</td>\n",
       "      <td>1.003350e+00</td>\n",
       "      <td>1.003350e+00</td>\n",
       "      <td>1.003350e+00</td>\n",
       "      <td>1.714061e+00</td>\n",
       "      <td>9.592883e-01</td>\n",
       "    </tr>\n",
       "    <tr>\n",
       "      <th>min</th>\n",
       "      <td>-1.870024e+00</td>\n",
       "      <td>-2.433947e+00</td>\n",
       "      <td>-1.567576e+00</td>\n",
       "      <td>-1.447076e+00</td>\n",
       "      <td>-2.771137e+00</td>\n",
       "      <td>-2.653466e+00</td>\n",
       "    </tr>\n",
       "    <tr>\n",
       "      <th>25%</th>\n",
       "      <td>-9.006812e-01</td>\n",
       "      <td>-5.923730e-01</td>\n",
       "      <td>-1.226552e+00</td>\n",
       "      <td>-1.183812e+00</td>\n",
       "      <td>-2.106054e+00</td>\n",
       "      <td>-5.989690e-01</td>\n",
       "    </tr>\n",
       "    <tr>\n",
       "      <th>50%</th>\n",
       "      <td>-5.250608e-02</td>\n",
       "      <td>-1.319795e-01</td>\n",
       "      <td>3.364776e-01</td>\n",
       "      <td>1.325097e-01</td>\n",
       "      <td>4.157875e-01</td>\n",
       "      <td>1.687413e-02</td>\n",
       "    </tr>\n",
       "    <tr>\n",
       "      <th>75%</th>\n",
       "      <td>6.745011e-01</td>\n",
       "      <td>5.586108e-01</td>\n",
       "      <td>7.627583e-01</td>\n",
       "      <td>7.906707e-01</td>\n",
       "      <td>1.344435e+00</td>\n",
       "      <td>5.996050e-01</td>\n",
       "    </tr>\n",
       "    <tr>\n",
       "      <th>max</th>\n",
       "      <td>2.492019e+00</td>\n",
       "      <td>3.090775e+00</td>\n",
       "      <td>1.785832e+00</td>\n",
       "      <td>1.712096e+00</td>\n",
       "      <td>3.309919e+00</td>\n",
       "      <td>2.700123e+00</td>\n",
       "    </tr>\n",
       "  </tbody>\n",
       "</table>\n",
       "</div>"
      ],
      "text/plain": [
       "                  0             1             2             3            z1  \\\n",
       "count  1.500000e+02  1.500000e+02  1.500000e+02  1.500000e+02  1.500000e+02   \n",
       "mean  -1.690315e-15 -1.842970e-15 -1.698641e-15 -1.409243e-15 -2.062054e-15   \n",
       "std    1.003350e+00  1.003350e+00  1.003350e+00  1.003350e+00  1.714061e+00   \n",
       "min   -1.870024e+00 -2.433947e+00 -1.567576e+00 -1.447076e+00 -2.771137e+00   \n",
       "25%   -9.006812e-01 -5.923730e-01 -1.226552e+00 -1.183812e+00 -2.106054e+00   \n",
       "50%   -5.250608e-02 -1.319795e-01  3.364776e-01  1.325097e-01  4.157875e-01   \n",
       "75%    6.745011e-01  5.586108e-01  7.627583e-01  7.906707e-01  1.344435e+00   \n",
       "max    2.492019e+00  3.090775e+00  1.785832e+00  1.712096e+00  3.309919e+00   \n",
       "\n",
       "                 z2  \n",
       "count  1.500000e+02  \n",
       "mean  -2.300706e-15  \n",
       "std    9.592883e-01  \n",
       "min   -2.653466e+00  \n",
       "25%   -5.989690e-01  \n",
       "50%    1.687413e-02  \n",
       "75%    5.996050e-01  \n",
       "max    2.700123e+00  "
      ]
     },
     "execution_count": 7,
     "metadata": {},
     "output_type": "execute_result"
    }
   ],
   "source": [
    "Zdf = pd.DataFrame(X_scaled)#先将原始数据矩阵转为数据框\n",
    "Zdf['z1'] = 0.52237162 * Zdf[0] - 0.26335492 * Zdf[1] \\\n",
    "            + 0.58125401 * Zdf[2] + 0.56561105 * Zdf[3]\n",
    "Zdf['z2'] = 0.37231836 * Zdf[0] + 0.92555649 * Zdf[1] \\\n",
    "            + 0.02109478 * Zdf[2] + 0.06541577 * Zdf[3]\n",
    "Zdf.describe()"
   ]
  },
  {
   "cell_type": "markdown",
   "metadata": {},
   "source": [
    "可见两个主成分mean=0，std=sqrt(特征根)"
   ]
  },
  {
   "cell_type": "code",
   "execution_count": 8,
   "metadata": {},
   "outputs": [
    {
     "data": {
      "text/html": [
       "<div>\n",
       "<style scoped>\n",
       "    .dataframe tbody tr th:only-of-type {\n",
       "        vertical-align: middle;\n",
       "    }\n",
       "\n",
       "    .dataframe tbody tr th {\n",
       "        vertical-align: top;\n",
       "    }\n",
       "\n",
       "    .dataframe thead th {\n",
       "        text-align: right;\n",
       "    }\n",
       "</style>\n",
       "<table border=\"1\" class=\"dataframe\">\n",
       "  <thead>\n",
       "    <tr style=\"text-align: right;\">\n",
       "      <th></th>\n",
       "      <th>0</th>\n",
       "      <th>1</th>\n",
       "      <th>2</th>\n",
       "      <th>3</th>\n",
       "      <th>z1</th>\n",
       "      <th>z2</th>\n",
       "    </tr>\n",
       "  </thead>\n",
       "  <tbody>\n",
       "    <tr>\n",
       "      <th>0</th>\n",
       "      <td>-0.900681</td>\n",
       "      <td>1.019004</td>\n",
       "      <td>-1.340227</td>\n",
       "      <td>-1.315444</td>\n",
       "      <td>-2.261892</td>\n",
       "      <td>0.493483</td>\n",
       "    </tr>\n",
       "    <tr>\n",
       "      <th>1</th>\n",
       "      <td>-1.143017</td>\n",
       "      <td>-0.131979</td>\n",
       "      <td>-1.340227</td>\n",
       "      <td>-1.315444</td>\n",
       "      <td>-2.085364</td>\n",
       "      <td>-0.662043</td>\n",
       "    </tr>\n",
       "    <tr>\n",
       "      <th>2</th>\n",
       "      <td>-1.385353</td>\n",
       "      <td>0.328414</td>\n",
       "      <td>-1.397064</td>\n",
       "      <td>-1.315444</td>\n",
       "      <td>-2.366237</td>\n",
       "      <td>-0.327348</td>\n",
       "    </tr>\n",
       "    <tr>\n",
       "      <th>3</th>\n",
       "      <td>-1.506521</td>\n",
       "      <td>0.098217</td>\n",
       "      <td>-1.283389</td>\n",
       "      <td>-1.315444</td>\n",
       "      <td>-2.302834</td>\n",
       "      <td>-0.583123</td>\n",
       "    </tr>\n",
       "    <tr>\n",
       "      <th>4</th>\n",
       "      <td>-1.021849</td>\n",
       "      <td>1.249201</td>\n",
       "      <td>-1.340227</td>\n",
       "      <td>-1.315444</td>\n",
       "      <td>-2.385810</td>\n",
       "      <td>0.661430</td>\n",
       "    </tr>\n",
       "  </tbody>\n",
       "</table>\n",
       "</div>"
      ],
      "text/plain": [
       "          0         1         2         3        z1        z2\n",
       "0 -0.900681  1.019004 -1.340227 -1.315444 -2.261892  0.493483\n",
       "1 -1.143017 -0.131979 -1.340227 -1.315444 -2.085364 -0.662043\n",
       "2 -1.385353  0.328414 -1.397064 -1.315444 -2.366237 -0.327348\n",
       "3 -1.506521  0.098217 -1.283389 -1.315444 -2.302834 -0.583123\n",
       "4 -1.021849  1.249201 -1.340227 -1.315444 -2.385810  0.661430"
      ]
     },
     "execution_count": 8,
     "metadata": {},
     "output_type": "execute_result"
    }
   ],
   "source": [
    "Zdf.head()"
   ]
  },
  {
   "cell_type": "code",
   "execution_count": 9,
   "metadata": {},
   "outputs": [
    {
     "data": {
      "text/plain": [
       "array([[-2.26470281,  0.4800266 ],\n",
       "       [-2.08096115, -0.67413356],\n",
       "       [-2.36422905, -0.34190802],\n",
       "       [-2.29938422, -0.59739451],\n",
       "       [-2.38984217,  0.64683538]])"
      ]
     },
     "execution_count": 9,
     "metadata": {},
     "output_type": "execute_result"
    }
   ],
   "source": [
    "# 直接用transform()计算出主成分用于后续分析，\n",
    "pca.transform(X_scaled)[:5]"
   ]
  },
  {
   "cell_type": "markdown",
   "metadata": {},
   "source": [
    "练习：使用PCA方法对boston数据的自变量进行降维。"
   ]
  },
  {
   "cell_type": "markdown",
   "metadata": {},
   "source": [
    "# 因子分析"
   ]
  },
  {
   "cell_type": "markdown",
   "metadata": {},
   "source": [
    "https://factor-analyzer.readthedocs.io/en/latest/factor_analyzer.html\n",
    "\n",
    "class factor_analyzer.factor_analyzer.FactorAnalyzer(n_factors=3, rotation='promax', method='minres', use_smc=True, is_corr_matrix=False, bounds=(0.005, 1), impute='median', svd_method='randomized', rotation_kwargs=None)\n",
    "\n",
    "Optionally performs a rotation, with method including:\n",
    "\n",
    "    varimax (orthogonal rotation)\n",
    "    promax (oblique rotation)\n",
    "    oblimin (oblique rotation)\n",
    "    oblimax (orthogonal rotation)\n",
    "    quartimin (oblique rotation)\n",
    "    quartimax (orthogonal rotation)\n",
    "    equamax (orthogonal rotation)\n"
   ]
  },
  {
   "cell_type": "code",
   "execution_count": 10,
   "metadata": {},
   "outputs": [],
   "source": [
    "import pandas as pd \n",
    "import numpy as np\n",
    "import sklearn\n",
    "from sklearn import datasets\n",
    "from matplotlib import pyplot as plt\n",
    "iris = datasets.load_iris()\n",
    "irisdf=pd.DataFrame(iris.data, columns = iris.feature_names)"
   ]
  },
  {
   "cell_type": "code",
   "execution_count": 11,
   "metadata": {},
   "outputs": [
    {
     "data": {
      "text/plain": [
       "(710.8879087307163, 2.7265151921737114e-150)"
      ]
     },
     "execution_count": 11,
     "metadata": {},
     "output_type": "execute_result"
    }
   ],
   "source": [
    "# 计算巴特利特P值 ,巴特利特P值小于0.01，KMO值大于0.6；说明此数据适合做因子分析。\n",
    "from factor_analyzer.factor_analyzer import calculate_bartlett_sphericity\n",
    "chi_square_value,p_value=calculate_bartlett_sphericity(irisdf)\n",
    "chi_square_value, p_value  \n"
   ]
  },
  {
   "cell_type": "code",
   "execution_count": 12,
   "metadata": {},
   "outputs": [
    {
     "name": "stdout",
     "output_type": "stream",
     "text": [
      "0.5367519348790573\n"
     ]
    }
   ],
   "source": [
    "# 计算KMO值 \n",
    "from factor_analyzer.factor_analyzer import calculate_kmo\n",
    "kmo_all,kmo_model=calculate_kmo(irisdf)\n",
    "print(kmo_model)"
   ]
  },
  {
   "cell_type": "code",
   "execution_count": 13,
   "metadata": {},
   "outputs": [
    {
     "name": "stdout",
     "output_type": "stream",
     "text": [
      "[2.91849782 0.91403047 0.14675688 0.02071484] [ 2.84243329  0.88505993  0.00853874 -0.01435222]\n",
      "(array([2.83685877, 0.88482098]), array([0.70921469, 0.22120524]), array([0.70921469, 0.93041994]))\n"
     ]
    }
   ],
   "source": [
    "# Create factor analysis object and perform factor analysis\n",
    "from factor_analyzer import FactorAnalyzer\n",
    "fa = FactorAnalyzer(2, rotation=None)\n",
    "fa.fit(irisdf)\n",
    "ev, v = fa.get_eigenvalues() # 计算特征值和特征向量\n",
    "var = fa.get_factor_variance()#计算因子方差信息，包括每个因子的方差、比例方差和累积方差\n",
    "print(ev,v)\n",
    "print(var)"
   ]
  },
  {
   "cell_type": "code",
   "execution_count": 14,
   "metadata": {},
   "outputs": [
    {
     "name": "stdout",
     "output_type": "stream",
     "text": [
      "ev [2.91849782 0.91403047 0.14675688 0.02071484]\n",
      "v [ 2.84243329  0.88505993  0.00853874 -0.01435222]\n",
      "(array([2.61336746, 1.10831228]), array([0.65334187, 0.27707807]), array([0.65334187, 0.93041994]))\n"
     ]
    },
    {
     "data": {
      "text/html": [
       "<div>\n",
       "<style scoped>\n",
       "    .dataframe tbody tr th:only-of-type {\n",
       "        vertical-align: middle;\n",
       "    }\n",
       "\n",
       "    .dataframe tbody tr th {\n",
       "        vertical-align: top;\n",
       "    }\n",
       "\n",
       "    .dataframe thead th {\n",
       "        text-align: right;\n",
       "    }\n",
       "</style>\n",
       "<table border=\"1\" class=\"dataframe\">\n",
       "  <thead>\n",
       "    <tr style=\"text-align: right;\">\n",
       "      <th></th>\n",
       "      <th>0</th>\n",
       "      <th>1</th>\n",
       "    </tr>\n",
       "  </thead>\n",
       "  <tbody>\n",
       "    <tr>\n",
       "      <th>sepal length (cm)</th>\n",
       "      <td>0.901205</td>\n",
       "      <td>0.017890</td>\n",
       "    </tr>\n",
       "    <tr>\n",
       "      <th>sepal width (cm)</th>\n",
       "      <td>-0.150413</td>\n",
       "      <td>0.986195</td>\n",
       "    </tr>\n",
       "    <tr>\n",
       "      <th>petal length (cm)</th>\n",
       "      <td>0.964153</td>\n",
       "      <td>-0.284619</td>\n",
       "    </tr>\n",
       "    <tr>\n",
       "      <th>petal width (cm)</th>\n",
       "      <td>0.921401</td>\n",
       "      <td>-0.233245</td>\n",
       "    </tr>\n",
       "  </tbody>\n",
       "</table>\n",
       "</div>"
      ],
      "text/plain": [
       "                          0         1\n",
       "sepal length (cm)  0.901205  0.017890\n",
       "sepal width (cm)  -0.150413  0.986195\n",
       "petal length (cm)  0.964153 -0.284619\n",
       "petal width (cm)   0.921401 -0.233245"
      ]
     },
     "execution_count": 14,
     "metadata": {},
     "output_type": "execute_result"
    }
   ],
   "source": [
    "fa = FactorAnalyzer(2, rotation=\"varimax\")\n",
    "fa.fit(irisdf)\n",
    "ev, v = fa.get_eigenvalues() # 计算特征值和特征向量\n",
    "var = fa.get_factor_variance()#计算因子方差信息，包括每个因子的方差、比例方差和累积方差\n",
    "print(\"ev\",ev)\n",
    "print(\"v\",v)\n",
    "print(var)\n",
    "# 输出载荷矩阵\n",
    "df_loading = pd.DataFrame(fa.loadings_,index=irisdf.columns.tolist())\n",
    "df_loading"
   ]
  },
  {
   "cell_type": "code",
   "execution_count": 15,
   "metadata": {},
   "outputs": [
    {
     "name": "stdout",
     "output_type": "stream",
     "text": [
      "            0         1\n",
      "0   -1.157234  0.851609\n",
      "1   -1.583209 -0.384376\n",
      "2   -1.434077  0.110196\n",
      "3   -1.302248 -0.088663\n",
      "4   -1.032635  1.109801\n",
      "..        ...       ...\n",
      "145  0.522967 -0.115894\n",
      "146  0.179774 -1.299982\n",
      "147  0.749228 -0.040326\n",
      "148  1.249648  0.968354\n",
      "149  0.931350  0.024892\n",
      "\n",
      "[150 rows x 2 columns]\n"
     ]
    },
    {
     "data": {
      "image/png": "[encoded data removed]",
      "text/plain": [
       "<Figure size 800x320 with 1 Axes>"
      ]
     },
     "metadata": {
      "needs_background": "light"
     },
     "output_type": "display_data"
    }
   ],
   "source": [
    "#计算因子得分\n",
    "irisdf_data_trans = pd.DataFrame(fa.transform(irisdf))\n",
    "print(irisdf_data_trans)\n",
    "#以散点图的形式呈现\n",
    "plt.figure(figsize=(10,4), dpi= 80)\n",
    "plt.subplot(1,2,1)\n",
    "plt.scatter(irisdf_data_trans.loc[:,0],irisdf_data_trans.loc[:,1])\n",
    "plt.title('Scree Plot')\n",
    "plt.xlabel('Factor1')\n",
    "plt.ylabel('Factor2')\n",
    "plt.grid()"
   ]
  }
 ],
 "metadata": {
  "kernelspec": {
   "display_name": "Python 3",
   "language": "python",
   "name": "python3"
  },
  "language_info": {
   "codemirror_mode": {
    "name": "ipython",
    "version": 3
   },
   "file_extension": ".py",
   "mimetype": "text/x-python",
   "name": "python",
   "nbconvert_exporter": "python",
   "pygments_lexer": "ipython3",
   "version": "3.7.6"
  },
  "toc": {
   "base_numbering": 1,
   "nav_menu": {},
   "number_sections": true,
   "sideBar": true,
   "skip_h1_title": false,
   "title_cell": "Table of Contents",
   "title_sidebar": "Contents",
   "toc_cell": false,
   "toc_position": {},
   "toc_section_display": true,
   "toc_window_display": true
  }
 },
 "nbformat": 4,
 "nbformat_minor": 4
}
